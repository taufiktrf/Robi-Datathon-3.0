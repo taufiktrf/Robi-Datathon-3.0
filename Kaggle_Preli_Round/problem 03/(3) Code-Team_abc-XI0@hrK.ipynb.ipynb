{
 "cells": [
  {
   "cell_type": "code",
   "execution_count": 1,
   "metadata": {},
   "outputs": [
    {
     "data": {
      "text/html": [
       "<div>\n",
       "<style scoped>\n",
       "    .dataframe tbody tr th:only-of-type {\n",
       "        vertical-align: middle;\n",
       "    }\n",
       "\n",
       "    .dataframe tbody tr th {\n",
       "        vertical-align: top;\n",
       "    }\n",
       "\n",
       "    .dataframe thead th {\n",
       "        text-align: right;\n",
       "    }\n",
       "</style>\n",
       "<table border=\"1\" class=\"dataframe\">\n",
       "  <thead>\n",
       "    <tr style=\"text-align: right;\">\n",
       "      <th></th>\n",
       "      <th>PURCHASE_DATE</th>\n",
       "      <th>MAGIC_KEY</th>\n",
       "      <th>BOX_ID</th>\n",
       "      <th>BOX_COUNT</th>\n",
       "    </tr>\n",
       "  </thead>\n",
       "  <tbody>\n",
       "    <tr>\n",
       "      <th>0</th>\n",
       "      <td>1/2/2019</td>\n",
       "      <td>2CED678A247</td>\n",
       "      <td>12.0</td>\n",
       "      <td>1.0</td>\n",
       "    </tr>\n",
       "    <tr>\n",
       "      <th>1</th>\n",
       "      <td>1/2/2019</td>\n",
       "      <td>2BF58D91BA1</td>\n",
       "      <td>12.0</td>\n",
       "      <td>1.0</td>\n",
       "    </tr>\n",
       "    <tr>\n",
       "      <th>2</th>\n",
       "      <td>1/2/2019</td>\n",
       "      <td>2C15B86534E</td>\n",
       "      <td>99.0</td>\n",
       "      <td>1.0</td>\n",
       "    </tr>\n",
       "    <tr>\n",
       "      <th>3</th>\n",
       "      <td>1/2/2019</td>\n",
       "      <td>2C32D9A859A</td>\n",
       "      <td>6.0</td>\n",
       "      <td>1.0</td>\n",
       "    </tr>\n",
       "    <tr>\n",
       "      <th>4</th>\n",
       "      <td>1/2/2019</td>\n",
       "      <td>2C7A55404D1</td>\n",
       "      <td>4.0</td>\n",
       "      <td>1.0</td>\n",
       "    </tr>\n",
       "  </tbody>\n",
       "</table>\n",
       "</div>"
      ],
      "text/plain": [
       "  PURCHASE_DATE    MAGIC_KEY  BOX_ID  BOX_COUNT\n",
       "0      1/2/2019  2CED678A247    12.0        1.0\n",
       "1      1/2/2019  2BF58D91BA1    12.0        1.0\n",
       "2      1/2/2019  2C15B86534E    99.0        1.0\n",
       "3      1/2/2019  2C32D9A859A     6.0        1.0\n",
       "4      1/2/2019  2C7A55404D1     4.0        1.0"
      ]
     },
     "execution_count": 1,
     "metadata": {},
     "output_type": "execute_result"
    }
   ],
   "source": [
    "import pandas as pd\n",
    "import numpy as np\n",
    "\n",
    "boxes = pd.read_csv('boxes.csv')\n",
    "\n",
    "prob_1 = pd.read_csv(\"problem 1.csv\")\n",
    "sample_1 = pd.read_csv(\"sample submission 1.csv\")\n",
    "\n",
    "prob_3 = pd.read_csv(\"problem 3.csv\")\n",
    "sample_3 = pd.read_csv(\"sample submission 3.csv\")\n",
    "\n",
    "purchase = pd.read_csv('purchase.csv').dropna().reset_index(drop=True)\n",
    "purchase = purchase[purchase['BOX_ID'] <= 290].reset_index(drop=True)\n",
    "\n",
    "df = purchase.copy()\n",
    "df.head()"
   ]
  },
  {
   "cell_type": "markdown",
   "metadata": {},
   "source": [
    "# Data Preaparation"
   ]
  },
  {
   "cell_type": "code",
   "execution_count": 2,
   "metadata": {},
   "outputs": [
    {
     "data": {
      "text/html": [
       "<div>\n",
       "<style scoped>\n",
       "    .dataframe tbody tr th:only-of-type {\n",
       "        vertical-align: middle;\n",
       "    }\n",
       "\n",
       "    .dataframe tbody tr th {\n",
       "        vertical-align: top;\n",
       "    }\n",
       "\n",
       "    .dataframe thead th {\n",
       "        text-align: right;\n",
       "    }\n",
       "</style>\n",
       "<table border=\"1\" class=\"dataframe\">\n",
       "  <thead>\n",
       "    <tr style=\"text-align: right;\">\n",
       "      <th></th>\n",
       "      <th>PURCHASE_DATE</th>\n",
       "      <th>MAGIC_KEY</th>\n",
       "      <th>PURCHASE_MONTH</th>\n",
       "      <th>PURCHASE_DAY</th>\n",
       "      <th>MILK</th>\n",
       "      <th>MEAT</th>\n",
       "      <th>LAST_PURCHASE</th>\n",
       "      <th>QUALITY</th>\n",
       "      <th>DELIVERY_OPTION</th>\n",
       "      <th>monthly_freq_ratio</th>\n",
       "    </tr>\n",
       "  </thead>\n",
       "  <tbody>\n",
       "    <tr>\n",
       "      <th>0</th>\n",
       "      <td>2018-11-01</td>\n",
       "      <td>249670911D8</td>\n",
       "      <td>11</td>\n",
       "      <td>1</td>\n",
       "      <td>0.0</td>\n",
       "      <td>2.4</td>\n",
       "      <td>31</td>\n",
       "      <td>0</td>\n",
       "      <td>0</td>\n",
       "      <td>0.5</td>\n",
       "    </tr>\n",
       "    <tr>\n",
       "      <th>1</th>\n",
       "      <td>2019-02-02</td>\n",
       "      <td>249670911D8</td>\n",
       "      <td>2</td>\n",
       "      <td>2</td>\n",
       "      <td>8.5</td>\n",
       "      <td>0.0</td>\n",
       "      <td>93</td>\n",
       "      <td>0</td>\n",
       "      <td>0</td>\n",
       "      <td>0.5</td>\n",
       "    </tr>\n",
       "    <tr>\n",
       "      <th>2</th>\n",
       "      <td>2018-10-12</td>\n",
       "      <td>249751FC4DD</td>\n",
       "      <td>10</td>\n",
       "      <td>12</td>\n",
       "      <td>10.0</td>\n",
       "      <td>1.8</td>\n",
       "      <td>11</td>\n",
       "      <td>0</td>\n",
       "      <td>0</td>\n",
       "      <td>1.0</td>\n",
       "    </tr>\n",
       "    <tr>\n",
       "      <th>3</th>\n",
       "      <td>2018-10-19</td>\n",
       "      <td>24978027606</td>\n",
       "      <td>10</td>\n",
       "      <td>19</td>\n",
       "      <td>0.0</td>\n",
       "      <td>2.9</td>\n",
       "      <td>18</td>\n",
       "      <td>1</td>\n",
       "      <td>1</td>\n",
       "      <td>1.0</td>\n",
       "    </tr>\n",
       "    <tr>\n",
       "      <th>4</th>\n",
       "      <td>2018-11-30</td>\n",
       "      <td>24979164422</td>\n",
       "      <td>11</td>\n",
       "      <td>30</td>\n",
       "      <td>0.0</td>\n",
       "      <td>2.5</td>\n",
       "      <td>60</td>\n",
       "      <td>0</td>\n",
       "      <td>0</td>\n",
       "      <td>1.0</td>\n",
       "    </tr>\n",
       "  </tbody>\n",
       "</table>\n",
       "</div>"
      ],
      "text/plain": [
       "  PURCHASE_DATE    MAGIC_KEY  PURCHASE_MONTH  PURCHASE_DAY  MILK  MEAT  \\\n",
       "0    2018-11-01  249670911D8              11             1   0.0   2.4   \n",
       "1    2019-02-02  249670911D8               2             2   8.5   0.0   \n",
       "2    2018-10-12  249751FC4DD              10            12  10.0   1.8   \n",
       "3    2018-10-19  24978027606              10            19   0.0   2.9   \n",
       "4    2018-11-30  24979164422              11            30   0.0   2.5   \n",
       "\n",
       "   LAST_PURCHASE  QUALITY  DELIVERY_OPTION  monthly_freq_ratio  \n",
       "0             31        0                0                 0.5  \n",
       "1             93        0                0                 0.5  \n",
       "2             11        0                0                 1.0  \n",
       "3             18        1                1                 1.0  \n",
       "4             60        0                0                 1.0  "
      ]
     },
     "execution_count": 2,
     "metadata": {},
     "output_type": "execute_result"
    }
   ],
   "source": [
    "df = pd.merge(df, boxes, on='BOX_ID', how='left')\n",
    "df['PURCHASE_DATE'] = pd.to_datetime(purchase['PURCHASE_DATE'], dayfirst=True)\n",
    "\n",
    "df['QUALITY'] = df['QUALITY'].map({'Premium':1, 'Standard':0})\n",
    "df['DELIVERY_OPTION'] = df['DELIVERY_OPTION'].map({'Home Delivery - Digital Payment':2,\n",
    "                                                   'Home Delivery - CoD':1,\n",
    "                                                   'Delivery from Collection Point':0})\n",
    "\n",
    "\n",
    "df['MEAT'] = df['MEAT'] * df['BOX_COUNT']\n",
    "df['MILK'] = df['MILK'] * df['BOX_COUNT']\n",
    "\n",
    "df['PURCHASE_MONTH'] = df['PURCHASE_DATE'].dt.month\n",
    "df['PURCHASE_DAY'] = df['PURCHASE_DATE'].dt.day\n",
    "\n",
    "df = df.sort_values(['MAGIC_KEY', 'PURCHASE_DATE']).reset_index(drop=True)\n",
    "earliest_date = pd.to_datetime('2018-10-01')\n",
    "df['LAST_PURCHASE'] = df.groupby('MAGIC_KEY')['PURCHASE_DATE'].diff().fillna(df['PURCHASE_DATE'] - earliest_date)\n",
    "df['LAST_PURCHASE'] = df['LAST_PURCHASE'].dt.days\n",
    "\n",
    "df = df[['PURCHASE_DATE', 'MAGIC_KEY', 'PURCHASE_MONTH', 'PURCHASE_DAY', 'MILK', 'MEAT', 'LAST_PURCHASE', 'QUALITY', 'DELIVERY_OPTION']]\n",
    "\n",
    "df['freq_all'] = df['MAGIC_KEY'].map(df['MAGIC_KEY'].value_counts())\n",
    "df['freq_monthly'] = df.groupby(['MAGIC_KEY', 'PURCHASE_MONTH'])['MAGIC_KEY'].transform('count')\n",
    "df['monthly_freq_ratio'] = df['freq_monthly'] / df['freq_all']\n",
    "df.drop(['freq_all', 'freq_monthly'], axis=1, inplace=True)\n",
    "\n",
    "df.head()"
   ]
  },
  {
   "cell_type": "markdown",
   "metadata": {},
   "source": [
    "# Labeling Data for Problem 1"
   ]
  },
  {
   "cell_type": "code",
   "execution_count": 3,
   "metadata": {},
   "outputs": [],
   "source": [
    "# Filter the DataFrame based on PURCHASE_MONTH and reset index\n",
    "oct_train = df[df['PURCHASE_MONTH'] == 10].reset_index(drop=True)\n",
    "nov_train = df[df['PURCHASE_MONTH'] == 11].reset_index(drop=True)\n",
    "dec_train = df[df['PURCHASE_MONTH'] == 12].reset_index(drop=True)\n",
    "jan_train = df[df['PURCHASE_MONTH'] == 1].reset_index(drop=True)\n",
    "\n",
    "# Find unique MAGIC_KEY values for each month\n",
    "oct_keys = set(oct_train['MAGIC_KEY'])\n",
    "nov_keys = set(nov_train['MAGIC_KEY'])\n",
    "dec_keys = set(dec_train['MAGIC_KEY'])\n",
    "jan_keys = set(jan_train['MAGIC_KEY'])\n",
    "\n",
    "# Filter next month's DataFrame for the first 15 days\n",
    "nov_first_15_days = df[(df['PURCHASE_MONTH'] == 11) & (df['PURCHASE_DAY'] <= 15)]\n",
    "dec_first_15_days = df[(df['PURCHASE_MONTH'] == 12) & (df['PURCHASE_DAY'] <= 15)]\n",
    "jan_first_15_days = df[(df['PURCHASE_MONTH'] == 1) & (df['PURCHASE_DAY'] <= 15)]\n",
    "feb_first_15_days = df[(df['PURCHASE_MONTH'] == 2) & (df['PURCHASE_DAY'] <= 15)]\n",
    "\n",
    "# Check if MAGIC_KEY values from current month are present in the next month's first 15 days\n",
    "oct_train['target_BOOL'] = oct_train['MAGIC_KEY'].isin(nov_first_15_days['MAGIC_KEY']).astype(bool)\n",
    "nov_train['target_BOOL'] = nov_train['MAGIC_KEY'].isin(dec_first_15_days['MAGIC_KEY']).astype(bool)\n",
    "dec_train['target_BOOL'] = dec_train['MAGIC_KEY'].isin(jan_first_15_days['MAGIC_KEY']).astype(bool)\n",
    "jan_train['target_BOOL'] = jan_train['MAGIC_KEY'].isin(feb_first_15_days['MAGIC_KEY']).astype(bool)"
   ]
  },
  {
   "cell_type": "markdown",
   "metadata": {},
   "source": [
    "# Labeling for Problem 3"
   ]
  },
  {
   "cell_type": "code",
   "execution_count": 4,
   "metadata": {},
   "outputs": [],
   "source": [
    "# November\n",
    "nov_meat = nov_first_15_days.groupby('MAGIC_KEY')['MEAT'].sum()\n",
    "oct_train = oct_train.merge(nov_meat.rename('target_MEAT'), on='MAGIC_KEY', how='left')\n",
    "\n",
    "# December\n",
    "dec_meat = dec_first_15_days.groupby('MAGIC_KEY')['MEAT'].sum()\n",
    "nov_train = nov_train.merge(dec_meat.rename('target_MEAT'), on='MAGIC_KEY', how='left')\n",
    "\n",
    "# January\n",
    "jan_meat = jan_first_15_days.groupby('MAGIC_KEY')['MEAT'].sum()\n",
    "dec_train = dec_train.merge(jan_meat.rename('target_MEAT'), on='MAGIC_KEY', how='left')\n",
    "\n",
    "# February\n",
    "feb_meat = feb_first_15_days.groupby('MAGIC_KEY')['MEAT'].sum()\n",
    "jan_train = jan_train.merge(feb_meat.rename('target_MEAT'), on='MAGIC_KEY', how='left')"
   ]
  },
  {
   "cell_type": "markdown",
   "metadata": {},
   "source": [
    "# Train_Test"
   ]
  },
  {
   "cell_type": "code",
   "execution_count": 5,
   "metadata": {},
   "outputs": [],
   "source": [
    "data = pd.concat([oct_train, nov_train, dec_train, jan_train], ignore_index=True)\n",
    "data = data.fillna(0)\n",
    "\n",
    "# Comment the line below to train all the data\n",
    "bool_data = data[data['MAGIC_KEY'].isin(prob_1['MAGIC_KEY'])].reset_index(drop=True)\n",
    "bool_train = bool_data[['PURCHASE_DATE', 'MAGIC_KEY', 'PURCHASE_DAY', 'MILK', 'MEAT', 'LAST_PURCHASE', 'monthly_freq_ratio', 'QUALITY', 'DELIVERY_OPTION']]\n",
    "bool_target = bool_data['target_BOOL']\n",
    "\n",
    "meat_data = data[data['target_BOOL']].reset_index(drop=True)\n",
    "meat_train = meat_data[['PURCHASE_DATE', 'MAGIC_KEY', 'PURCHASE_DAY', 'MILK', 'MEAT', 'LAST_PURCHASE', 'monthly_freq_ratio', 'QUALITY', 'DELIVERY_OPTION']]\n",
    "meat_target = meat_data['target_MEAT']\n",
    "\n",
    "test = df.sort_values(by=['MAGIC_KEY', 'PURCHASE_DATE'], ascending=[True, False]).reset_index(drop=True)\n",
    "test = test.drop_duplicates(subset='MAGIC_KEY', keep='first').reset_index(drop=True)\n",
    "test = test[['PURCHASE_DATE', 'MAGIC_KEY', 'PURCHASE_DAY', 'MILK', 'MEAT', 'LAST_PURCHASE', 'monthly_freq_ratio', 'QUALITY', 'DELIVERY_OPTION']]\n",
    "\n",
    "test_bool = test[test['MAGIC_KEY'].isin(prob_1['MAGIC_KEY'])].reset_index(drop=True)\n",
    "test_meat = test[test['MAGIC_KEY'].isin(prob_3['MAGIC_KEY'])].reset_index(drop=True)"
   ]
  },
  {
   "cell_type": "code",
   "execution_count": 6,
   "metadata": {},
   "outputs": [
    {
     "data": {
      "text/html": [
       "<div>\n",
       "<style scoped>\n",
       "    .dataframe tbody tr th:only-of-type {\n",
       "        vertical-align: middle;\n",
       "    }\n",
       "\n",
       "    .dataframe tbody tr th {\n",
       "        vertical-align: top;\n",
       "    }\n",
       "\n",
       "    .dataframe thead th {\n",
       "        text-align: right;\n",
       "    }\n",
       "</style>\n",
       "<table border=\"1\" class=\"dataframe\">\n",
       "  <thead>\n",
       "    <tr style=\"text-align: right;\">\n",
       "      <th></th>\n",
       "      <th>target_MEAT</th>\n",
       "    </tr>\n",
       "  </thead>\n",
       "  <tbody>\n",
       "    <tr>\n",
       "      <th>count</th>\n",
       "      <td>454821.000000</td>\n",
       "    </tr>\n",
       "    <tr>\n",
       "      <th>mean</th>\n",
       "      <td>2.001687</td>\n",
       "    </tr>\n",
       "    <tr>\n",
       "      <th>std</th>\n",
       "      <td>1.119292</td>\n",
       "    </tr>\n",
       "    <tr>\n",
       "      <th>min</th>\n",
       "      <td>0.000000</td>\n",
       "    </tr>\n",
       "    <tr>\n",
       "      <th>25%</th>\n",
       "      <td>1.800000</td>\n",
       "    </tr>\n",
       "    <tr>\n",
       "      <th>50%</th>\n",
       "      <td>2.200000</td>\n",
       "    </tr>\n",
       "    <tr>\n",
       "      <th>75%</th>\n",
       "      <td>2.400000</td>\n",
       "    </tr>\n",
       "    <tr>\n",
       "      <th>max</th>\n",
       "      <td>23.200000</td>\n",
       "    </tr>\n",
       "  </tbody>\n",
       "</table>\n",
       "</div>"
      ],
      "text/plain": [
       "         target_MEAT\n",
       "count  454821.000000\n",
       "mean        2.001687\n",
       "std         1.119292\n",
       "min         0.000000\n",
       "25%         1.800000\n",
       "50%         2.200000\n",
       "75%         2.400000\n",
       "max        23.200000"
      ]
     },
     "execution_count": 6,
     "metadata": {},
     "output_type": "execute_result"
    }
   ],
   "source": [
    "pd.DataFrame(meat_target).describe()"
   ]
  },
  {
   "cell_type": "code",
   "execution_count": 7,
   "metadata": {},
   "outputs": [
    {
     "data": {
      "text/plain": [
       "target_BOOL\n",
       "False          91373\n",
       "True           75792\n",
       "Name: count, dtype: int64"
      ]
     },
     "execution_count": 7,
     "metadata": {},
     "output_type": "execute_result"
    }
   ],
   "source": [
    "pd.DataFrame(bool_target).value_counts()"
   ]
  },
  {
   "cell_type": "markdown",
   "metadata": {},
   "source": [
    "# Modeling "
   ]
  },
  {
   "cell_type": "markdown",
   "metadata": {},
   "source": [
    "### Model for problem 01"
   ]
  },
  {
   "cell_type": "code",
   "execution_count": 8,
   "metadata": {},
   "outputs": [
    {
     "data": {
      "text/plain": [
       "{'fit_time': array([1.2797842 , 0.36045146, 0.36047649, 0.37748051, 0.41483021,\n",
       "        0.39585328, 0.40180516, 0.54002023, 0.34955239, 0.35195303]),\n",
       " 'score_time': array([0.        , 0.0117135 , 0.        , 0.00943112, 0.0116353 ,\n",
       "        0.        , 0.01224208, 0.        , 0.01167512, 0.01325631]),\n",
       " 'test_score': array([0.76867859, 0.77585691, 0.78064246, 0.74989532, 0.76945624,\n",
       "        0.79690117, 0.78433836, 0.79283321, 0.79797799, 0.79612347]),\n",
       " 'train_score': array([0.79920637, 0.79817611, 0.79939913, 0.80170557, 0.80010369,\n",
       "        0.79783847, 0.79894183, 0.79765236, 0.79825057, 0.7976723 ])}"
      ]
     },
     "execution_count": 8,
     "metadata": {},
     "output_type": "execute_result"
    }
   ],
   "source": [
    "from sklearn.model_selection import StratifiedKFold, cross_validate\n",
    "from xgboost import XGBClassifier\n",
    "\n",
    "model = XGBClassifier()\n",
    "\n",
    "cross_validate(model, bool_train.drop(['PURCHASE_DATE', 'MAGIC_KEY'], axis=1), bool_target,\n",
    "               cv=StratifiedKFold(10),\n",
    "               scoring='accuracy',\n",
    "               return_train_score=True)"
   ]
  },
  {
   "cell_type": "markdown",
   "metadata": {},
   "source": [
    "### Model for problem 03"
   ]
  },
  {
   "cell_type": "code",
   "execution_count": 9,
   "metadata": {},
   "outputs": [
    {
     "data": {
      "text/plain": [
       "{'fit_time': array([1.38785052, 1.29781961, 1.32519603, 1.24574614, 1.30374932,\n",
       "        1.29977751, 1.25439191, 1.26111746, 1.25607777, 1.22512031]),\n",
       " 'score_time': array([0.01308727, 0.01550436, 0.03131533, 0.02378082, 0.01562476,\n",
       "        0.01742554, 0.02487826, 0.00672293, 0.01101851, 0.01570272]),\n",
       " 'test_score': array([-0.71309611, -0.55895243, -0.60397401, -0.5556972 , -0.58893042,\n",
       "        -0.60448864, -0.60867219, -0.6227897 , -0.62964997, -0.61000028]),\n",
       " 'train_score': array([-0.56355824, -0.57282706, -0.56863283, -0.57346245, -0.5701901 ,\n",
       "        -0.57131399, -0.57058326, -0.56932041, -0.56749277, -0.56819224])}"
      ]
     },
     "execution_count": 9,
     "metadata": {},
     "output_type": "execute_result"
    }
   ],
   "source": [
    "from sklearn.model_selection import StratifiedKFold, cross_validate\n",
    "from xgboost import XGBRegressor\n",
    "\n",
    "model = XGBRegressor()\n",
    "\n",
    "cross_validate(model, meat_train.drop(['PURCHASE_DATE', 'MAGIC_KEY'], axis=1), meat_target,\n",
    "               cv=10,\n",
    "               scoring='neg_root_mean_squared_error',\n",
    "               return_train_score=True)"
   ]
  },
  {
   "cell_type": "markdown",
   "metadata": {},
   "source": [
    "# Predictions and Submissions"
   ]
  },
  {
   "cell_type": "code",
   "execution_count": 10,
   "metadata": {},
   "outputs": [
    {
     "data": {
      "text/html": [
       "<div>\n",
       "<style scoped>\n",
       "    .dataframe tbody tr th:only-of-type {\n",
       "        vertical-align: middle;\n",
       "    }\n",
       "\n",
       "    .dataframe tbody tr th {\n",
       "        vertical-align: top;\n",
       "    }\n",
       "\n",
       "    .dataframe thead th {\n",
       "        text-align: right;\n",
       "    }\n",
       "</style>\n",
       "<table border=\"1\" class=\"dataframe\">\n",
       "  <thead>\n",
       "    <tr style=\"text-align: right;\">\n",
       "      <th></th>\n",
       "      <th>MAGIC_KEY</th>\n",
       "      <th>PURCHASE</th>\n",
       "    </tr>\n",
       "  </thead>\n",
       "  <tbody>\n",
       "    <tr>\n",
       "      <th>0</th>\n",
       "      <td>28D5BB06356</td>\n",
       "      <td>N</td>\n",
       "    </tr>\n",
       "    <tr>\n",
       "      <th>1</th>\n",
       "      <td>293BEAB4E98</td>\n",
       "      <td>Y</td>\n",
       "    </tr>\n",
       "    <tr>\n",
       "      <th>2</th>\n",
       "      <td>2962EE8065C</td>\n",
       "      <td>N</td>\n",
       "    </tr>\n",
       "    <tr>\n",
       "      <th>3</th>\n",
       "      <td>2957BE29EA9</td>\n",
       "      <td>N</td>\n",
       "    </tr>\n",
       "    <tr>\n",
       "      <th>4</th>\n",
       "      <td>28E351A0745</td>\n",
       "      <td>N</td>\n",
       "    </tr>\n",
       "    <tr>\n",
       "      <th>...</th>\n",
       "      <td>...</td>\n",
       "      <td>...</td>\n",
       "    </tr>\n",
       "    <tr>\n",
       "      <th>58684</th>\n",
       "      <td>28FB7C09776</td>\n",
       "      <td>N</td>\n",
       "    </tr>\n",
       "    <tr>\n",
       "      <th>58685</th>\n",
       "      <td>28E0E3B69BF</td>\n",
       "      <td>N</td>\n",
       "    </tr>\n",
       "    <tr>\n",
       "      <th>58686</th>\n",
       "      <td>28D343103A7</td>\n",
       "      <td>N</td>\n",
       "    </tr>\n",
       "    <tr>\n",
       "      <th>58687</th>\n",
       "      <td>290B1D6D5CB</td>\n",
       "      <td>N</td>\n",
       "    </tr>\n",
       "    <tr>\n",
       "      <th>58688</th>\n",
       "      <td>28FF193CB94</td>\n",
       "      <td>N</td>\n",
       "    </tr>\n",
       "  </tbody>\n",
       "</table>\n",
       "<p>58689 rows × 2 columns</p>\n",
       "</div>"
      ],
      "text/plain": [
       "         MAGIC_KEY PURCHASE\n",
       "0      28D5BB06356        N\n",
       "1      293BEAB4E98        Y\n",
       "2      2962EE8065C        N\n",
       "3      2957BE29EA9        N\n",
       "4      28E351A0745        N\n",
       "...            ...      ...\n",
       "58684  28FB7C09776        N\n",
       "58685  28E0E3B69BF        N\n",
       "58686  28D343103A7        N\n",
       "58687  290B1D6D5CB        N\n",
       "58688  28FF193CB94        N\n",
       "\n",
       "[58689 rows x 2 columns]"
      ]
     },
     "execution_count": 10,
     "metadata": {},
     "output_type": "execute_result"
    }
   ],
   "source": [
    "from xgboost import XGBClassifier\n",
    "clf = XGBClassifier()\n",
    "\n",
    "clf.fit(bool_train.drop(['PURCHASE_DATE', 'MAGIC_KEY'], axis=1), bool_target)\n",
    "\n",
    "p1 = clf.predict(test_bool.drop(['PURCHASE_DATE', 'MAGIC_KEY'], axis=1))\n",
    "test_bool.loc[:, 'PURCHASE'] = p1\n",
    "\n",
    "sub = pd.merge(prob_1, test_bool, on='MAGIC_KEY', how='left')\n",
    "sub = sub[['MAGIC_KEY', 'PURCHASE']]\n",
    "\n",
    "sub['PURCHASE'] = sub['PURCHASE'].map({1:'Y', 0:'N'})\n",
    "sub.to_csv('month_based_P1.csv', index=None)\n",
    "\n",
    "sub"
   ]
  },
  {
   "cell_type": "code",
   "execution_count": 11,
   "metadata": {},
   "outputs": [
    {
     "data": {
      "text/plain": [
       "PURCHASE\n",
       "N    36195\n",
       "Y    22494\n",
       "Name: count, dtype: int64"
      ]
     },
     "execution_count": 11,
     "metadata": {},
     "output_type": "execute_result"
    }
   ],
   "source": [
    "sub['PURCHASE'].value_counts()"
   ]
  },
  {
   "cell_type": "code",
   "execution_count": 12,
   "metadata": {},
   "outputs": [
    {
     "data": {
      "text/plain": [
       "((58689, 2), (58689, 2))"
      ]
     },
     "execution_count": 12,
     "metadata": {},
     "output_type": "execute_result"
    }
   ],
   "source": [
    "sample_1.shape, sub.shape"
   ]
  },
  {
   "cell_type": "code",
   "execution_count": 13,
   "metadata": {},
   "outputs": [
    {
     "data": {
      "text/html": [
       "<div>\n",
       "<style scoped>\n",
       "    .dataframe tbody tr th:only-of-type {\n",
       "        vertical-align: middle;\n",
       "    }\n",
       "\n",
       "    .dataframe tbody tr th {\n",
       "        vertical-align: top;\n",
       "    }\n",
       "\n",
       "    .dataframe thead th {\n",
       "        text-align: right;\n",
       "    }\n",
       "</style>\n",
       "<table border=\"1\" class=\"dataframe\">\n",
       "  <thead>\n",
       "    <tr style=\"text-align: right;\">\n",
       "      <th></th>\n",
       "      <th>MAGIC_KEY</th>\n",
       "      <th>MEAT</th>\n",
       "    </tr>\n",
       "  </thead>\n",
       "  <tbody>\n",
       "    <tr>\n",
       "      <th>0</th>\n",
       "      <td>2BCFE9C06A7</td>\n",
       "      <td>7.016002</td>\n",
       "    </tr>\n",
       "    <tr>\n",
       "      <th>1</th>\n",
       "      <td>2C2A872B5A2</td>\n",
       "      <td>4.335819</td>\n",
       "    </tr>\n",
       "    <tr>\n",
       "      <th>2</th>\n",
       "      <td>2C6A897671B</td>\n",
       "      <td>4.356737</td>\n",
       "    </tr>\n",
       "    <tr>\n",
       "      <th>3</th>\n",
       "      <td>2C6F1287F53</td>\n",
       "      <td>10.742587</td>\n",
       "    </tr>\n",
       "    <tr>\n",
       "      <th>4</th>\n",
       "      <td>2C658198CC9</td>\n",
       "      <td>4.338244</td>\n",
       "    </tr>\n",
       "    <tr>\n",
       "      <th>...</th>\n",
       "      <td>...</td>\n",
       "      <td>...</td>\n",
       "    </tr>\n",
       "    <tr>\n",
       "      <th>5374</th>\n",
       "      <td>2C0804EFE49</td>\n",
       "      <td>3.251038</td>\n",
       "    </tr>\n",
       "    <tr>\n",
       "      <th>5375</th>\n",
       "      <td>2C080B48630</td>\n",
       "      <td>2.011938</td>\n",
       "    </tr>\n",
       "    <tr>\n",
       "      <th>5376</th>\n",
       "      <td>2C08243C58E</td>\n",
       "      <td>2.802018</td>\n",
       "    </tr>\n",
       "    <tr>\n",
       "      <th>5377</th>\n",
       "      <td>2C082C78575</td>\n",
       "      <td>3.072096</td>\n",
       "    </tr>\n",
       "    <tr>\n",
       "      <th>5378</th>\n",
       "      <td>2C083B1F3E5</td>\n",
       "      <td>4.825343</td>\n",
       "    </tr>\n",
       "  </tbody>\n",
       "</table>\n",
       "<p>5379 rows × 2 columns</p>\n",
       "</div>"
      ],
      "text/plain": [
       "        MAGIC_KEY       MEAT\n",
       "0     2BCFE9C06A7   7.016002\n",
       "1     2C2A872B5A2   4.335819\n",
       "2     2C6A897671B   4.356737\n",
       "3     2C6F1287F53  10.742587\n",
       "4     2C658198CC9   4.338244\n",
       "...           ...        ...\n",
       "5374  2C0804EFE49   3.251038\n",
       "5375  2C080B48630   2.011938\n",
       "5376  2C08243C58E   2.802018\n",
       "5377  2C082C78575   3.072096\n",
       "5378  2C083B1F3E5   4.825343\n",
       "\n",
       "[5379 rows x 2 columns]"
      ]
     },
     "execution_count": 13,
     "metadata": {},
     "output_type": "execute_result"
    }
   ],
   "source": [
    "from xgboost import XGBRegressor\n",
    "regr = XGBRegressor()\n",
    "\n",
    "regr.fit(meat_train.drop(['PURCHASE_DATE', 'MAGIC_KEY'], axis=1), meat_target)\n",
    "\n",
    "p3 = regr.predict(test_meat.drop(['PURCHASE_DATE', 'MAGIC_KEY'], axis=1))\n",
    "test_meat.loc[:,'preds'] = p3 + abs(min(p3))\n",
    "\n",
    "sub = pd.merge(prob_3, test_meat, on='MAGIC_KEY', how='left')\n",
    "sub = sub[['MAGIC_KEY', 'preds']]\n",
    "sub.rename(columns={'preds': 'MEAT'}, inplace=True)\n",
    "\n",
    "sub.fillna(0, inplace=True)\n",
    "sub.to_csv('month_based_P3.csv', index=None)\n",
    "\n",
    "sub"
   ]
  },
  {
   "cell_type": "code",
   "execution_count": 14,
   "metadata": {},
   "outputs": [
    {
     "data": {
      "text/plain": [
       "count    5379.000000\n",
       "mean        3.586764\n",
       "std         1.239417\n",
       "min         0.000000\n",
       "25%         2.870429\n",
       "50%         3.355543\n",
       "75%         4.171070\n",
       "max        21.026117\n",
       "Name: MEAT, dtype: float64"
      ]
     },
     "execution_count": 14,
     "metadata": {},
     "output_type": "execute_result"
    }
   ],
   "source": [
    "sub['MEAT'].describe()"
   ]
  },
  {
   "cell_type": "code",
   "execution_count": 15,
   "metadata": {},
   "outputs": [
    {
     "data": {
      "text/plain": [
       "((5379, 2), (5379, 2))"
      ]
     },
     "execution_count": 15,
     "metadata": {},
     "output_type": "execute_result"
    }
   ],
   "source": [
    "sample_3.shape, sub.shape"
   ]
  }
 ],
 "metadata": {
  "kernelspec": {
   "display_name": "Python 3",
   "language": "python",
   "name": "python3"
  },
  "language_info": {
   "codemirror_mode": {
    "name": "ipython",
    "version": 3
   },
   "file_extension": ".py",
   "mimetype": "text/x-python",
   "name": "python",
   "nbconvert_exporter": "python",
   "pygments_lexer": "ipython3",
   "version": "3.12.2"
  }
 },
 "nbformat": 4,
 "nbformat_minor": 2
}
